{
  "nbformat": 4,
  "nbformat_minor": 0,
  "metadata": {
    "colab": {
      "provenance": []
    },
    "kernelspec": {
      "name": "python3",
      "display_name": "Python 3"
    },
    "language_info": {
      "name": "python"
    }
  },
  "cells": [
    {
      "cell_type": "code",
      "execution_count": 3,
      "metadata": {
        "colab": {
          "base_uri": "https://localhost:8080/"
        },
        "id": "LWFaqW7EE56k",
        "outputId": "759619f2-4727-4762-eb4e-181291d8e6fe"
      },
      "outputs": [
        {
          "output_type": "stream",
          "name": "stdout",
          "text": [
            "fatal: destination path 'yolov5' already exists and is not an empty directory.\n"
          ]
        }
      ],
      "source": [
        "!git clone https://github.com/ultralytics/yolov5  # clone"
      ]
    },
    {
      "cell_type": "code",
      "source": [
        "%cd yolov5"
      ],
      "metadata": {
        "colab": {
          "base_uri": "https://localhost:8080/"
        },
        "id": "UWv1NEoQFaSp",
        "outputId": "43ae9931-15cd-4fbd-b146-e923ea42309c"
      },
      "execution_count": 5,
      "outputs": [
        {
          "output_type": "stream",
          "name": "stdout",
          "text": [
            "/content/yolov5\n"
          ]
        }
      ]
    },
    {
      "cell_type": "code",
      "source": [
        "%pip install -qr requirements.txt"
      ],
      "metadata": {
        "colab": {
          "base_uri": "https://localhost:8080/"
        },
        "id": "Q_lxjAzkGP3U",
        "outputId": "60ea74fc-272f-4f29-d702-fa5d9f372d6f"
      },
      "execution_count": 8,
      "outputs": [
        {
          "output_type": "stream",
          "name": "stdout",
          "text": [
            "\u001b[2K     \u001b[90m━━━━━━━━━━━━━━━━━━━━━━━━━━━━━━━━━━━━━━━━\u001b[0m \u001b[32m207.3/207.3 kB\u001b[0m \u001b[31m2.2 MB/s\u001b[0m eta \u001b[36m0:00:00\u001b[0m\n",
            "\u001b[2K     \u001b[90m━━━━━━━━━━━━━━━━━━━━━━━━━━━━━━━━━━━━━━━━\u001b[0m \u001b[32m4.5/4.5 MB\u001b[0m \u001b[31m25.9 MB/s\u001b[0m eta \u001b[36m0:00:00\u001b[0m\n",
            "\u001b[2K     \u001b[90m━━━━━━━━━━━━━━━━━━━━━━━━━━━━━━━━━━━━━━━━\u001b[0m \u001b[32m750.4/750.4 kB\u001b[0m \u001b[31m38.8 MB/s\u001b[0m eta \u001b[36m0:00:00\u001b[0m\n",
            "\u001b[2K     \u001b[90m━━━━━━━━━━━━━━━━━━━━━━━━━━━━━━━━━━━━━━━━\u001b[0m \u001b[32m62.7/62.7 kB\u001b[0m \u001b[31m6.8 MB/s\u001b[0m eta \u001b[36m0:00:00\u001b[0m\n",
            "\u001b[?25h\u001b[31mERROR: pip's dependency resolver does not currently take into account all the packages that are installed. This behaviour is the source of the following dependency conflicts.\n",
            "imageio 2.31.6 requires pillow<10.1.0,>=8.3.2, but you have pillow 10.3.0 which is incompatible.\u001b[0m\u001b[31m\n",
            "\u001b[0m"
          ]
        }
      ]
    },
    {
      "cell_type": "code",
      "source": [
        "!python3 ./detect.py --weights ./best_face.pt --conf 0.5 --source ./test1.jpg --save-txt"
      ],
      "metadata": {
        "colab": {
          "base_uri": "https://localhost:8080/"
        },
        "id": "zzHUkcmmFT68",
        "outputId": "fd7779cc-36fe-42ca-ccc9-c6e03ec59cda"
      },
      "execution_count": 9,
      "outputs": [
        {
          "output_type": "stream",
          "name": "stdout",
          "text": [
            "\u001b[34m\u001b[1mdetect: \u001b[0mweights=['./best.pt'], source=./test1.jpg, data=data/coco128.yaml, imgsz=[640, 640], conf_thres=0.5, iou_thres=0.45, max_det=1000, device=, view_img=False, save_txt=True, save_csv=False, save_conf=False, save_crop=False, nosave=False, classes=None, agnostic_nms=False, augment=False, visualize=False, update=False, project=runs/detect, name=exp, exist_ok=False, line_thickness=3, hide_labels=False, hide_conf=False, half=False, dnn=False, vid_stride=1\n",
            "YOLOv5 🚀 v7.0-297-gd07d0cf6 Python-3.10.12 torch-2.2.1+cu121 CPU\n",
            "\n",
            "Fusing layers... \n",
            "YOLOv5s summary: 182 layers, 7246518 parameters, 0 gradients\n",
            "image 1/1 /content/yolov5/test1.jpg: 480x640 80 faces, 498.9ms\n",
            "Speed: 4.0ms pre-process, 498.9ms inference, 24.3ms NMS per image at shape (1, 3, 640, 640)\n",
            "Results saved to \u001b[1mruns/detect/exp\u001b[0m\n",
            "1 labels saved to runs/detect/exp/labels\n"
          ]
        }
      ]
    },
    {
      "cell_type": "code",
      "source": [
        "import cv2\n",
        "\n",
        "# 이미지 파일을 불러오는 함수\n",
        "def load_image(image_path):\n",
        "    return cv2.imread(image_path)\n",
        "\n",
        "# txt 파일에서 바운딩 박스를 읽는 함수\n",
        "def read_bboxes(txt_path, img_width, img_height):\n",
        "    bboxes = []\n",
        "    with open(txt_path, 'r') as file:\n",
        "        for line in file:\n",
        "            class_id, x_center, y_center, width, height = map(float, line.split())\n",
        "            x1 = int((x_center - width / 2) * img_width)\n",
        "            y1 = int((y_center - height / 2) * img_height)\n",
        "            x2 = int((x_center + width / 2) * img_width)\n",
        "            y2 = int((y_center + height / 2) * img_height)\n",
        "            bboxes.append((x1, y1, x2, y2))\n",
        "    return bboxes\n",
        "\n",
        "# 모자이크 처리 함수\n",
        "def apply_mosaic(img, bbox, mosaic_size):\n",
        "    x1, y1, x2, y2 = bbox\n",
        "    roi = img[y1:y2, x1:x2]  # 관심영역(Region of Interest) 추출\n",
        "    roi = cv2.resize(roi, (mosaic_size, mosaic_size), interpolation=cv2.INTER_LINEAR)\n",
        "    roi = cv2.resize(roi, (x2 - x1, y2 - y1), interpolation=cv2.INTER_NEAREST)\n",
        "    img[y1:y2, x1:x2] = roi  # 원본 이미지에 모자이크 처리된 영역을 대체\n",
        "    return img\n",
        "\n",
        "# 이미지 경로와 txt 파일 경로\n",
        "image_path = 'test1.jpg'\n",
        "txt_path = './runs/detect/exp/labels/test1.txt'\n",
        "\n",
        "# 이미지 로드\n",
        "image = load_image(image_path)\n",
        "img_height, img_width = image.shape[:2]\n",
        "\n",
        "# 모자이크 크기 설정\n",
        "mosaic_size = 10\n",
        "\n",
        "# 바운딩 박스 정보 읽기\n",
        "bboxes = read_bboxes(txt_path, img_width, img_height)\n",
        "\n",
        "# 각 바운딩 박스에 대해 모자이크 처리 적용\n",
        "for bbox in bboxes:\n",
        "    image = apply_mosaic(image, bbox, mosaic_size)\n",
        "\n",
        "# 모자이크 처리된 이미지 저장\n",
        "cv2.imwrite('./mosiaic_test1.jpg', image)"
      ],
      "metadata": {
        "colab": {
          "base_uri": "https://localhost:8080/"
        },
        "id": "VS0UIUSMFYuV",
        "outputId": "6f63f06d-dfcc-477d-c3ce-c8b98ed64928"
      },
      "execution_count": 11,
      "outputs": [
        {
          "output_type": "execute_result",
          "data": {
            "text/plain": [
              "True"
            ]
          },
          "metadata": {},
          "execution_count": 11
        }
      ]
    },
    {
      "cell_type": "code",
      "source": [],
      "metadata": {
        "id": "-xzcCPbKKMWs"
      },
      "execution_count": null,
      "outputs": []
    }
  ]
}